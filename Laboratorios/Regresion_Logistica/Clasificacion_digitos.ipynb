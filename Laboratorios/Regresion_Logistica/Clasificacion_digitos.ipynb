{
  "nbformat": 4,
  "nbformat_minor": 0,
  "metadata": {
    "colab": {
      "name": "Clasificacion_digitos.ipynb",
      "provenance": []
    },
    "kernelspec": {
      "name": "python3",
      "display_name": "Python 3"
    },
    "language_info": {
      "name": "python"
    }
  },
  "cells": [
    {
      "cell_type": "code",
      "metadata": {
        "id": "lQ9aS2SWCos5"
      },
      "source": [
        "from sklearn.datasets import load_digits\n",
        "import numpy as np\n",
        "import matplotlib.pyplot as plt"
      ],
      "execution_count": 29,
      "outputs": []
    },
    {
      "cell_type": "code",
      "metadata": {
        "id": "8G-pp4zgC8XQ"
      },
      "source": [
        "digits = load_digits()"
      ],
      "execution_count": 3,
      "outputs": []
    },
    {
      "cell_type": "code",
      "metadata": {
        "colab": {
          "base_uri": "https://localhost:8080/"
        },
        "id": "NhsBa_tcIPal",
        "outputId": "fb309f3a-e3d9-4add-c0f4-e3c883a57764"
      },
      "source": [
        "len(digits['data'])"
      ],
      "execution_count": 77,
      "outputs": [
        {
          "output_type": "execute_result",
          "data": {
            "text/plain": [
              "1797"
            ]
          },
          "metadata": {},
          "execution_count": 77
        }
      ]
    },
    {
      "cell_type": "code",
      "metadata": {
        "colab": {
          "base_uri": "https://localhost:8080/"
        },
        "id": "u1sNsz0QDqj1",
        "outputId": "e368004c-cf6b-4b02-a67c-792307f12589"
      },
      "source": [
        "np.max(digits['data'][80])"
      ],
      "execution_count": 73,
      "outputs": [
        {
          "output_type": "execute_result",
          "data": {
            "text/plain": [
              "16.0"
            ]
          },
          "metadata": {},
          "execution_count": 73
        }
      ]
    },
    {
      "cell_type": "code",
      "metadata": {
        "colab": {
          "base_uri": "https://localhost:8080/",
          "height": 290
        },
        "id": "iD6krMJoDPCN",
        "outputId": "8a0b7e92-680a-4683-ba6b-5d80f11ef223"
      },
      "source": [
        "idx = np.random.randint(digits['data'].shape[0])\n",
        "img = digits['data'][idx,:].reshape(8,8)\n",
        "\n",
        "plt.imshow(img, cmap='gray')\n",
        "plt.title(f\"target: {digits['target'][idx]}\", size=24)\n",
        "plt.show()\n"
      ],
      "execution_count": 46,
      "outputs": [
        {
          "output_type": "display_data",
          "data": {
            "image/png": "[encoded data removed]",
            "text/plain": [
              "<Figure size 432x288 with 1 Axes>"
            ]
          },
          "metadata": {
            "needs_background": "light"
          }
        }
      ]
    },
    {
      "cell_type": "code",
      "metadata": {
        "id": "saq2nfPEHSSR"
      },
      "source": [
        ""
      ],
      "execution_count": null,
      "outputs": []
    },
    {
      "cell_type": "code",
      "metadata": {
        "colab": {
          "base_uri": "https://localhost:8080/",
          "height": 265
        },
        "id": "MKDCW7k_D0t3",
        "outputId": "bd8a49bb-a7a2-4f8f-fc19-eb33f91a40be"
      },
      "source": [
        "idx = np.random.randint(digits['data'].shape[0]-5)\n",
        "plt.figure(figsize=(20,4))\n",
        "for index, (image, label) in enumerate(zip(digits['data'][idx:idx+5], digits['target'][idx:idx+5])):\n",
        "  plt.subplot(1,5, index + 1)\n",
        "  plt.imshow(image.reshape(8,8), cmap='gray')\n",
        "  plt.title(f\"target: {label}\", size=24)\n",
        "  #plt.show()"
      ],
      "execution_count": 64,
      "outputs": [
        {
          "output_type": "display_data",
          "data": {
            "image/png": "[encoded data removed]",
            "text/plain": [
              "<Figure size 1440x288 with 5 Axes>"
            ]
          },
          "metadata": {
            "needs_background": "light"
          }
        }
      ]
    },
    {
      "cell_type": "code",
      "metadata": {
        "id": "fR8GOWXSELBo"
      },
      "source": [
        "from sklearn.model_selection import train_test_split\n",
        "\n",
        "X_train, X_test, y_train, y_test = train_test_split(digits['data'], digits['target'], test_size=0.25, random_state=42)"
      ],
      "execution_count": 75,
      "outputs": []
    },
    {
      "cell_type": "code",
      "metadata": {
        "colab": {
          "base_uri": "https://localhost:8080/"
        },
        "id": "QDKi72ZCGQQM",
        "outputId": "9d59f1db-ee07-448c-9730-42605d8705c3"
      },
      "source": [
        "X_train.shape, X_test.shape, y_train.shape, y_test.shape"
      ],
      "execution_count": 76,
      "outputs": [
        {
          "output_type": "execute_result",
          "data": {
            "text/plain": [
              "((1347, 64), (450, 64), (1347,), (450,))"
            ]
          },
          "metadata": {},
          "execution_count": 76
        }
      ]
    },
    {
      "cell_type": "code",
      "metadata": {
        "colab": {
          "base_uri": "https://localhost:8080/"
        },
        "id": "r6rHRO7BMtiq",
        "outputId": "7cadbb3c-c3cb-4e37-92be-7a828355781a"
      },
      "source": [
        "X_train[1], y_train[1]"
      ],
      "execution_count": 95,
      "outputs": [
        {
          "output_type": "execute_result",
          "data": {
            "text/plain": [
              "(array([ 0.,  5., 16., 15.,  3.,  0.,  0.,  0.,  0., 11., 14., 11., 11.,\n",
              "         0.,  0.,  0.,  0.,  8., 11.,  4., 16.,  0.,  0.,  0.,  0.,  0.,\n",
              "         0.,  4., 13.,  0.,  0.,  0.,  0.,  0.,  0.,  8., 12.,  0.,  0.,\n",
              "         0.,  0.,  0.,  0., 13.,  9.,  5.,  1.,  0.,  0.,  1., 11., 16.,\n",
              "        16., 16., 10.,  0.,  0.,  5., 16., 14.,  8.,  6.,  1.,  0.]), 2)"
            ]
          },
          "metadata": {},
          "execution_count": 95
        }
      ]
    },
    {
      "cell_type": "code",
      "metadata": {
        "colab": {
          "base_uri": "https://localhost:8080/"
        },
        "id": "y6uxoOb7NyIS",
        "outputId": "b9cef22c-24c8-40bf-e1dc-32dfce5602e2"
      },
      "source": [
        "X_test[1], y_test[1]"
      ],
      "execution_count": 96,
      "outputs": [
        {
          "output_type": "execute_result",
          "data": {
            "text/plain": [
              "(array([ 0.,  0., 11., 16.,  8.,  0.,  0.,  0.,  0.,  6., 16., 11., 13.,\n",
              "         9.,  0.,  0.,  0.,  7., 16.,  0.,  9., 16.,  0.,  0.,  0.,  2.,\n",
              "        15., 12., 16., 16.,  3.,  0.,  0.,  0.,  5.,  7.,  7., 16.,  4.,\n",
              "         0.,  0.,  0.,  0.,  0.,  5., 16.,  5.,  0.,  0.,  0.,  3.,  7.,\n",
              "        16., 11.,  0.,  0.,  0.,  0., 13., 16., 11.,  1.,  0.,  0.]), 9)"
            ]
          },
          "metadata": {},
          "execution_count": 96
        }
      ]
    },
    {
      "cell_type": "markdown",
      "metadata": {
        "id": "WXBhmRi5P1bF"
      },
      "source": [
        "### ONE HOT ENCODER"
      ]
    },
    {
      "cell_type": "markdown",
      "metadata": {
        "id": "9hlnFPmVM_XU"
      },
      "source": [
        "_ -> [0,1,2,3,4,5,6,7,8,9]\n",
        "0 -> [1,0,0,0,0,0,0,0,0,0]\n",
        "1 -> [0,1,0,0,0,0,0,0,0,0]\n",
        "2 -> [0,0,1,0,0,0,0,0,0,0]\n",
        "9 -> [0,0,0,0,0,0,0,0,0,1]\n",
        "\n",
        "[0.1,0.1,0.7,0,0,0,0,0,0.1]"
      ]
    },
    {
      "cell_type": "code",
      "metadata": {
        "id": "btaKx1s-M81k"
      },
      "source": [
        ""
      ],
      "execution_count": null,
      "outputs": []
    },
    {
      "cell_type": "code",
      "metadata": {
        "id": "uHohvfbQI62N"
      },
      "source": [
        "from sklearn.linear_model import LogisticRegression"
      ],
      "execution_count": 78,
      "outputs": []
    },
    {
      "cell_type": "code",
      "metadata": {
        "id": "16aqZfT3JNwR"
      },
      "source": [
        "model = LogisticRegression(solver='lbfgs',max_iter=100)"
      ],
      "execution_count": 90,
      "outputs": []
    },
    {
      "cell_type": "code",
      "metadata": {
        "colab": {
          "base_uri": "https://localhost:8080/"
        },
        "id": "fBHsWPWsJK_u",
        "outputId": "07ce6468-5e88-47f1-dc9b-5d536fa75e73"
      },
      "source": [
        "model.fit(X_train, y_train)"
      ],
      "execution_count": 91,
      "outputs": [
        {
          "output_type": "execute_result",
          "data": {
            "text/plain": [
              "LogisticRegression(C=1.0, class_weight=None, dual=False, fit_intercept=True,\n",
              "                   intercept_scaling=1, l1_ratio=None, max_iter=10000,\n",
              "                   multi_class='auto', n_jobs=None, penalty='l2',\n",
              "                   random_state=None, solver='lbfgs', tol=0.0001, verbose=0,\n",
              "                   warm_start=False)"
            ]
          },
          "metadata": {},
          "execution_count": 91
        }
      ]
    },
    {
      "cell_type": "code",
      "metadata": {
        "colab": {
          "base_uri": "https://localhost:8080/"
        },
        "id": "Mb0hPTe-JYsl",
        "outputId": "145d8c61-40d5-4100-b272-8f487509b574"
      },
      "source": [
        "model.coef_.shape"
      ],
      "execution_count": 102,
      "outputs": [
        {
          "output_type": "execute_result",
          "data": {
            "text/plain": [
              "(10, 64)"
            ]
          },
          "metadata": {},
          "execution_count": 102
        }
      ]
    },
    {
      "cell_type": "code",
      "metadata": {
        "colab": {
          "base_uri": "https://localhost:8080/"
        },
        "id": "niuwoMtzRJI5",
        "outputId": "9bde4ce9-e43a-41aa-979e-dddb6a5ccd41"
      },
      "source": [
        "model.intercept_.shape"
      ],
      "execution_count": 107,
      "outputs": [
        {
          "output_type": "execute_result",
          "data": {
            "text/plain": [
              "(10,)"
            ]
          },
          "metadata": {},
          "execution_count": 107
        }
      ]
    },
    {
      "cell_type": "code",
      "metadata": {
        "colab": {
          "base_uri": "https://localhost:8080/"
        },
        "id": "AjL2VzpjKzuK",
        "outputId": "2babf954-20b6-4054-d565-00925c1a5df0"
      },
      "source": [
        "model.n_iter_"
      ],
      "execution_count": 105,
      "outputs": [
        {
          "output_type": "execute_result",
          "data": {
            "text/plain": [
              "array([1919], dtype=int32)"
            ]
          },
          "metadata": {},
          "execution_count": 105
        }
      ]
    },
    {
      "cell_type": "code",
      "metadata": {
        "colab": {
          "base_uri": "https://localhost:8080/"
        },
        "id": "2-5BywA8SVIN",
        "outputId": "1901c093-3c9b-49ac-a3fe-80fd41cf587e"
      },
      "source": [
        "X_test[0], y_test[0]"
      ],
      "execution_count": 109,
      "outputs": [
        {
          "output_type": "execute_result",
          "data": {
            "text/plain": [
              "(array([ 0.,  0.,  0.,  7., 12.,  0.,  0.,  0.,  0.,  0.,  4., 16.,  8.,\n",
              "         0.,  0.,  0.,  0.,  0., 12., 11.,  0.,  0.,  0.,  0.,  0.,  0.,\n",
              "        15., 10.,  8.,  6.,  1.,  0.,  0.,  0., 15., 16.,  8., 10.,  8.,\n",
              "         0.,  0.,  0., 14.,  7.,  0.,  0., 12.,  0.,  0.,  0.,  8., 11.,\n",
              "         0.,  5., 16.,  2.,  0.,  0.,  0.,  9., 14., 14.,  5.,  0.]), 6)"
            ]
          },
          "metadata": {},
          "execution_count": 109
        }
      ]
    },
    {
      "cell_type": "code",
      "metadata": {
        "colab": {
          "base_uri": "https://localhost:8080/"
        },
        "id": "5PcIo00USe7o",
        "outputId": "7d609a2a-ce89-4c06-9761-11ef3bf76a05"
      },
      "source": [
        "X_test[0].reshape(1,-1).shape"
      ],
      "execution_count": 113,
      "outputs": [
        {
          "output_type": "execute_result",
          "data": {
            "text/plain": [
              "(1, 64)"
            ]
          },
          "metadata": {},
          "execution_count": 113
        }
      ]
    },
    {
      "cell_type": "code",
      "metadata": {
        "colab": {
          "base_uri": "https://localhost:8080/"
        },
        "id": "WEewlRjjSEKB",
        "outputId": "a8684786-436b-4633-c192-05ab28281959"
      },
      "source": [
        "model.predict(X_test[0].reshape(1,-1))"
      ],
      "execution_count": 114,
      "outputs": [
        {
          "output_type": "execute_result",
          "data": {
            "text/plain": [
              "array([6])"
            ]
          },
          "metadata": {},
          "execution_count": 114
        }
      ]
    },
    {
      "cell_type": "code",
      "metadata": {
        "colab": {
          "base_uri": "https://localhost:8080/"
        },
        "id": "XioxGfJTS8px",
        "outputId": "ae42cfcc-b0f3-4754-8aff-822cdb11ca70"
      },
      "source": [
        "X_test[:10].shape"
      ],
      "execution_count": 116,
      "outputs": [
        {
          "output_type": "execute_result",
          "data": {
            "text/plain": [
              "(10, 64)"
            ]
          },
          "metadata": {},
          "execution_count": 116
        }
      ]
    },
    {
      "cell_type": "code",
      "metadata": {
        "colab": {
          "base_uri": "https://localhost:8080/"
        },
        "id": "V88XeIaaSbuy",
        "outputId": "2e8030f0-539f-4326-f7b5-74400a0f3aa2"
      },
      "source": [
        "model.predict(X_test[:20])"
      ],
      "execution_count": 121,
      "outputs": [
        {
          "output_type": "execute_result",
          "data": {
            "text/plain": [
              "array([6, 9, 3, 7, 2, 1, 5, 2, 5, 2, 1, 9, 4, 0, 4, 2, 3, 7, 8, 8])"
            ]
          },
          "metadata": {},
          "execution_count": 121
        }
      ]
    },
    {
      "cell_type": "code",
      "metadata": {
        "colab": {
          "base_uri": "https://localhost:8080/"
        },
        "id": "IVMW4SWdS7QV",
        "outputId": "f063ac69-2184-4baf-e55a-afb5587cf322"
      },
      "source": [
        "y_test[:20]"
      ],
      "execution_count": 120,
      "outputs": [
        {
          "output_type": "execute_result",
          "data": {
            "text/plain": [
              "array([6, 9, 3, 7, 2, 1, 5, 2, 5, 2, 1, 9, 4, 0, 4, 2, 3, 7, 8, 8])"
            ]
          },
          "metadata": {},
          "execution_count": 120
        }
      ]
    },
    {
      "cell_type": "code",
      "metadata": {
        "colab": {
          "base_uri": "https://localhost:8080/"
        },
        "id": "8NOleXhwTBRJ",
        "outputId": "688449ff-76a9-49ba-a0d8-d59b964cb950"
      },
      "source": [
        "score = model.score(X_test, y_test)\n",
        "score"
      ],
      "execution_count": 122,
      "outputs": [
        {
          "output_type": "execute_result",
          "data": {
            "text/plain": [
              "0.9733333333333334"
            ]
          },
          "metadata": {},
          "execution_count": 122
        }
      ]
    },
    {
      "cell_type": "code",
      "metadata": {
        "id": "ln0ElSymTH5K"
      },
      "source": [
        "from sklearn.metrics import confusion_matrix"
      ],
      "execution_count": 123,
      "outputs": []
    },
    {
      "cell_type": "code",
      "metadata": {
        "id": "0JEMWnyHTj9g"
      },
      "source": [
        "y_pred = model.predict(X_test)\n",
        "cm = confusion_matrix(y_test, y_pred)"
      ],
      "execution_count": 125,
      "outputs": []
    },
    {
      "cell_type": "code",
      "metadata": {
        "id": "kRPJ9VT8TxDK"
      },
      "source": [
        "import seaborn as sns"
      ],
      "execution_count": 126,
      "outputs": []
    },
    {
      "cell_type": "code",
      "metadata": {
        "colab": {
          "base_uri": "https://localhost:8080/",
          "height": 472
        },
        "id": "uTAw6OCfT7Fp",
        "outputId": "3d75c873-a4ac-41b7-b3e8-5a6102e14551"
      },
      "source": [
        "plt.figure(figsize=(8,8))\n",
        "sns.heatmap(cm, annot=True, linewidths=.5, square = True, cmap = 'Blues_r');\n",
        "plt.ylabel('Actual label', size = 15)\n",
        "plt.xlabel('Predicted label', size = 15)\n",
        "plt.title(f'Accuracy Score: {np.round(100*score,1)}%', size = 15)\n",
        "plt.show()"
      ],
      "execution_count": 133,
      "outputs": [
        {
          "output_type": "display_data",
          "data": {
            "image/png": "[encoded data removed]",
            "text/plain": [
              "<Figure size 576x576 with 2 Axes>"
            ]
          },
          "metadata": {
            "needs_background": "light"
          }
        }
      ]
    },
    {
      "cell_type": "code",
      "metadata": {
        "id": "GEHP1A-JUGMR"
      },
      "source": [
        "from sklearn.datasets import fetch_openml\n",
        "mnist = fetch_openml(\"mnist_784\")"
      ],
      "execution_count": 135,
      "outputs": []
    },
    {
      "cell_type": "code",
      "metadata": {
        "colab": {
          "base_uri": "https://localhost:8080/"
        },
        "id": "YMpS3hUqVL_5",
        "outputId": "36b2438b-d392-44af-9546-1b1e05f410a1"
      },
      "source": [
        "mnist.keys()"
      ],
      "execution_count": 137,
      "outputs": [
        {
          "output_type": "execute_result",
          "data": {
            "text/plain": [
              "dict_keys(['data', 'target', 'frame', 'feature_names', 'target_names', 'DESCR', 'details', 'categories', 'url'])"
            ]
          },
          "metadata": {},
          "execution_count": 137
        }
      ]
    },
    {
      "cell_type": "code",
      "metadata": {
        "colab": {
          "base_uri": "https://localhost:8080/"
        },
        "id": "Rj1dWzHdVbom",
        "outputId": "a6921be5-f40b-413c-a2e5-b6d5bccda03d"
      },
      "source": [
        "mnist['data'].shape"
      ],
      "execution_count": 138,
      "outputs": [
        {
          "output_type": "execute_result",
          "data": {
            "text/plain": [
              "(70000, 784)"
            ]
          },
          "metadata": {},
          "execution_count": 138
        }
      ]
    },
    {
      "cell_type": "code",
      "metadata": {
        "colab": {
          "base_uri": "https://localhost:8080/"
        },
        "id": "TLinJcpeVjep",
        "outputId": "2cc6b1d2-9b9f-4ad1-e1c5-d70e8a52f2d9"
      },
      "source": [
        "mnist['target'].shape"
      ],
      "execution_count": 139,
      "outputs": [
        {
          "output_type": "execute_result",
          "data": {
            "text/plain": [
              "(70000,)"
            ]
          },
          "metadata": {},
          "execution_count": 139
        }
      ]
    },
    {
      "cell_type": "code",
      "metadata": {
        "id": "JS3KuE4nVmsH"
      },
      "source": [
        "from sklearn.model_selection import train_test_split\n",
        "train_img, test_img, train_lbl, test_lbl = train_test_split(mnist['data'], mnist['target'], test_size=0.2, random_state=0)"
      ],
      "execution_count": 143,
      "outputs": []
    },
    {
      "cell_type": "code",
      "metadata": {
        "colab": {
          "base_uri": "https://localhost:8080/"
        },
        "id": "iewMMLdRVyDf",
        "outputId": "47d42d21-7fa4-4976-ebfe-b658c01ed217"
      },
      "source": [
        "train_lbl.shape"
      ],
      "execution_count": 145,
      "outputs": [
        {
          "output_type": "execute_result",
          "data": {
            "text/plain": [
              "(56000,)"
            ]
          },
          "metadata": {},
          "execution_count": 145
        }
      ]
    },
    {
      "cell_type": "code",
      "metadata": {
        "colab": {
          "base_uri": "https://localhost:8080/"
        },
        "id": "pkfb63VDbJ-s",
        "outputId": "88f21537-099c-4341-de37-58972e073e0e"
      },
      "source": [
        "test_lbl.shape"
      ],
      "execution_count": 146,
      "outputs": [
        {
          "output_type": "execute_result",
          "data": {
            "text/plain": [
              "(14000,)"
            ]
          },
          "metadata": {},
          "execution_count": 146
        }
      ]
    },
    {
      "cell_type": "code",
      "metadata": {
        "colab": {
          "base_uri": "https://localhost:8080/"
        },
        "id": "WrzLkK0XbRFh",
        "outputId": "17fcd2f5-d1e2-4fc5-db3c-7e043aa1f16b"
      },
      "source": [
        "train_img.shape"
      ],
      "execution_count": 147,
      "outputs": [
        {
          "output_type": "execute_result",
          "data": {
            "text/plain": [
              "(56000, 784)"
            ]
          },
          "metadata": {},
          "execution_count": 147
        }
      ]
    },
    {
      "cell_type": "code",
      "metadata": {
        "colab": {
          "base_uri": "https://localhost:8080/"
        },
        "id": "8uFpUCUtbWdv",
        "outputId": "63ca49cd-5a33-48a7-f592-5f31eb94b4dd"
      },
      "source": [
        "test_img.shape"
      ],
      "execution_count": 148,
      "outputs": [
        {
          "output_type": "execute_result",
          "data": {
            "text/plain": [
              "(14000, 784)"
            ]
          },
          "metadata": {},
          "execution_count": 148
        }
      ]
    },
    {
      "cell_type": "code",
      "metadata": {
        "id": "5dxNsdjHbYjP"
      },
      "source": [
        ""
      ],
      "execution_count": null,
      "outputs": []
    }
  ]
}